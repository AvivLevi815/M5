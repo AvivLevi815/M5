{
 "cells": [
  {
   "cell_type": "code",
   "execution_count": 1,
   "metadata": {},
   "outputs": [],
   "source": [
    "import pandas as pd\n",
    "import gc\n",
    "import pickle"
   ]
  },
  {
   "cell_type": "code",
   "execution_count": 2,
   "metadata": {},
   "outputs": [],
   "source": [
    "train = pickle.load(open(\"init_train.pkl\", \"rb\"))"
   ]
  },
  {
   "cell_type": "code",
   "execution_count": 3,
   "metadata": {},
   "outputs": [],
   "source": [
    "# save the train days column\n",
    "pickle.dump(train[\"d\"].str[2:].astype(\"int\"), open(\"init_train_d.pkl\", \"wb\"))"
   ]
  },
  {
   "cell_type": "code",
   "execution_count": 4,
   "metadata": {},
   "outputs": [],
   "source": [
    "# create month_id, an index starting from 1 for the first month and increasing by 1 for every month to come.\n",
    "train = train.rename(columns = {\"id\": \"id_old\"})\n",
    "train = train.rename(columns = {\"product_id\": \"id\"})\n",
    "\n",
    "dict_year_month_id = {}\n",
    "id_c = 1 \n",
    "for year in [2012, 2013, 2014, 2015, 2016]:\n",
    "    for month in range(1, 13):\n",
    "        dict_year_month_id[str(year) + \"_\" + str(month)] = id_c\n",
    "        id_c = id_c + 1\n",
    "train[\"month_id\"] = train[\"year\"].astype(\"str\") + \"_\" +  train[\"month\"].astype(\"str\") \n",
    "train[\"month_id\"] = train[\"month_id\"].map(dict_year_month_id)\n",
    "\n",
    "del dict_year_month_id\n"
   ]
  },
  {
   "cell_type": "code",
   "execution_count": 5,
   "metadata": {},
   "outputs": [],
   "source": [
    "train_last_year = train.loc[train.year >=2015].copy()"
   ]
  },
  {
   "cell_type": "code",
   "execution_count": 6,
   "metadata": {},
   "outputs": [],
   "source": [
    "# generate 'month' column for test files \n",
    "test_days = []\n",
    "for day in range(28):\n",
    "    test_days.append(pickle.load(open(\"tests/test_{}.pkl\".format(day), \"rb\")))\n",
    "    if test_days[day][\"month\"].iloc[0] == 4:\n",
    "        test_days[day][\"month_id\"] = 52\n",
    "    elif test_days[day][\"month\"].iloc[0] == 5:\n",
    "        test_days[day][\"month_id\"] = 53"
   ]
  },
  {
   "cell_type": "code",
   "execution_count": 7,
   "metadata": {},
   "outputs": [],
   "source": [
    "# Safety - making sure train_last_year and test_days have the same features - without the target for the test.\n",
    "for col in train_last_year:\n",
    "    if col not in test_days[0] and col != \"sales\":\n",
    "        train_last_year = train_last_year.drop(col, axis = 1)        \n",
    "new_cols = list( test_days[0].columns)\n",
    "new_cols.append(\"sales\")"
   ]
  },
  {
   "cell_type": "code",
   "execution_count": 8,
   "metadata": {},
   "outputs": [],
   "source": [
    "\"\"\"\n",
    "Adding median and average of previous months as features.\n",
    "\"\"\"\n",
    "def add_features(df):\n",
    "    # Median_X_months_ago.\n",
    "    \n",
    "    if \"sales\" not in df.columns: #test\n",
    "        is_test = True\n",
    "        df[\"sales\"] = 0\n",
    "        train_last_year_size = train_last_year.shape[0]\n",
    "        df_size = df.shape[0]\n",
    "        df = train_last_year.append(df)\n",
    "        df_save_id = df[\"id\"].copy()           \n",
    "        df[\"id\"] = df[\"id\"].str[:-len(\"_validation\")]\n",
    "\n",
    "\n",
    "    else:\n",
    "        is_test = False\n",
    "\n",
    "        \n",
    "    print(\"grouping..\")\n",
    "    product_month_sales_median = df.groupby([\"id\", \"month_id\"])[\"sales\"].agg(\"median\")\n",
    "    product_month_sales_mean = df.groupby([\"id\", \"month_id\"])[\"sales\"].agg(\"mean\")\n",
    "\n",
    "    for months_window in range(1,3):    \n",
    "        print(\"{} / 2\".format(months_window))\n",
    "        window_month = df[\"month_id\"] - months_window\n",
    "        monthId_product_list =list(zip(df.id, window_month))\n",
    "        df[\"median_{}_months_ago\".format(months_window)] = pd.Series(monthId_product_list, \n",
    "                                                                     index = df.index).map(product_month_sales_median)\n",
    "        df[\"median_{}_months_ago\".format(months_window)] = df[\"median_{}_months_ago\".format(months_window)].round(1).astype(\"float32\")\n",
    "\n",
    "        df[\"mean_{}_months_ago\".format(months_window)] = pd.Series(monthId_product_list, \n",
    "                                                                     index = df.index).map(product_month_sales_mean)\n",
    "        df[\"mean_{}_months_ago\".format(months_window)] = df[\"mean_{}_months_ago\".format(months_window)].round(1).astype(\"float32\")\n",
    "\n",
    "    del  window_month, monthId_product_list\n",
    "\n",
    "    month_year_product_mean = df.groupby([\"month\", \"year\", \"id\"])[\"sales\"].agg(\"mean\")\n",
    "\n",
    "    month_year_product_list =list(zip(df[\"month\"], df[\"year\"] - 1, df.id))\n",
    "    df[\"avg_last_year\"] = pd.Series(month_year_product_list, index = df.index).map(month_year_product_mean)\n",
    "    df[\"avg_last_year\"] =  df[\"avg_last_year\"].round(1)\n",
    "\n",
    "    df[\"avg_last_year\"] = df[\"avg_last_year\"].astype(\"float32\")\n",
    "    \n",
    "    if (is_test):\n",
    "        df[\"id\"] = df_save_id           \n",
    "        df = df.drop(\"sales\", axis = 1)  \n",
    "        df = df.tail(df_size)\n",
    "\n",
    "    print(\"done\")\n",
    "    \n",
    "    \n",
    "    \n",
    "    return df"
   ]
  },
  {
   "cell_type": "code",
   "execution_count": 9,
   "metadata": {},
   "outputs": [
    {
     "name": "stdout",
     "output_type": "stream",
     "text": [
      "id_old\n",
      "d\n"
     ]
    }
   ],
   "source": [
    "\n",
    "for col in train:\n",
    "    if col not in test_days[0] and col !=\"sales\":\n",
    "        print(col)\n",
    "        train = train.drop(col, axis = 1)\n",
    "\n",
    "new_cols = list( test_days[0].columns)\n",
    "new_cols.append(\"sales\")"
   ]
  },
  {
   "cell_type": "code",
   "execution_count": 10,
   "metadata": {},
   "outputs": [
    {
     "name": "stdout",
     "output_type": "stream",
     "text": [
      "grouping..\n",
      "1 / 2\n",
      "2 / 2\n",
      "done\n"
     ]
    },
    {
     "data": {
      "text/plain": [
       "0"
      ]
     },
     "execution_count": 10,
     "metadata": {},
     "output_type": "execute_result"
    }
   ],
   "source": [
    "\"\"\"\n",
    "Adding features for the train\n",
    "\"\"\"\n",
    "train = add_features(train)\n",
    "pickle.dump(train, open(\"train.pkl\", \"wb\"))\n",
    "del train\n",
    "gc.collect()"
   ]
  },
  {
   "cell_type": "code",
   "execution_count": 11,
   "metadata": {
    "scrolled": true
   },
   "outputs": [
    {
     "name": "stdout",
     "output_type": "stream",
     "text": [
      "grouping..\n",
      "1 / 2\n",
      "2 / 2\n",
      "done\n",
      "1/28 tests are ready\n",
      "grouping..\n",
      "1 / 2\n",
      "2 / 2\n",
      "done\n",
      "2/28 tests are ready\n",
      "grouping..\n",
      "1 / 2\n",
      "2 / 2\n",
      "done\n",
      "3/28 tests are ready\n",
      "grouping..\n",
      "1 / 2\n",
      "2 / 2\n",
      "done\n",
      "4/28 tests are ready\n",
      "grouping..\n",
      "1 / 2\n",
      "2 / 2\n",
      "done\n",
      "5/28 tests are ready\n",
      "grouping..\n",
      "1 / 2\n",
      "2 / 2\n",
      "done\n",
      "6/28 tests are ready\n",
      "grouping..\n",
      "1 / 2\n",
      "2 / 2\n",
      "done\n",
      "7/28 tests are ready\n",
      "grouping..\n",
      "1 / 2\n",
      "2 / 2\n",
      "done\n",
      "8/28 tests are ready\n",
      "grouping..\n",
      "1 / 2\n",
      "2 / 2\n",
      "done\n",
      "9/28 tests are ready\n",
      "grouping..\n",
      "1 / 2\n",
      "2 / 2\n",
      "done\n",
      "10/28 tests are ready\n",
      "grouping..\n",
      "1 / 2\n",
      "2 / 2\n",
      "done\n",
      "11/28 tests are ready\n",
      "grouping..\n",
      "1 / 2\n",
      "2 / 2\n",
      "done\n",
      "12/28 tests are ready\n",
      "grouping..\n",
      "1 / 2\n",
      "2 / 2\n",
      "done\n",
      "13/28 tests are ready\n",
      "grouping..\n",
      "1 / 2\n",
      "2 / 2\n",
      "done\n",
      "14/28 tests are ready\n",
      "grouping..\n",
      "1 / 2\n",
      "2 / 2\n",
      "done\n",
      "15/28 tests are ready\n",
      "grouping..\n",
      "1 / 2\n",
      "2 / 2\n",
      "done\n",
      "16/28 tests are ready\n",
      "grouping..\n",
      "1 / 2\n",
      "2 / 2\n",
      "done\n",
      "17/28 tests are ready\n",
      "grouping..\n",
      "1 / 2\n",
      "2 / 2\n",
      "done\n",
      "18/28 tests are ready\n",
      "grouping..\n",
      "1 / 2\n",
      "2 / 2\n",
      "done\n",
      "19/28 tests are ready\n",
      "grouping..\n",
      "1 / 2\n",
      "2 / 2\n",
      "done\n",
      "20/28 tests are ready\n",
      "grouping..\n",
      "1 / 2\n",
      "2 / 2\n",
      "done\n",
      "21/28 tests are ready\n",
      "grouping..\n",
      "1 / 2\n",
      "2 / 2\n",
      "done\n",
      "22/28 tests are ready\n",
      "grouping..\n",
      "1 / 2\n",
      "2 / 2\n",
      "done\n",
      "23/28 tests are ready\n",
      "grouping..\n",
      "1 / 2\n",
      "2 / 2\n",
      "done\n",
      "24/28 tests are ready\n",
      "grouping..\n",
      "1 / 2\n",
      "2 / 2\n",
      "done\n",
      "25/28 tests are ready\n",
      "grouping..\n",
      "1 / 2\n",
      "2 / 2\n",
      "done\n",
      "26/28 tests are ready\n",
      "grouping..\n",
      "1 / 2\n",
      "2 / 2\n",
      "done\n",
      "27/28 tests are ready\n",
      "grouping..\n",
      "1 / 2\n",
      "2 / 2\n",
      "done\n",
      "28/28 tests are ready\n"
     ]
    }
   ],
   "source": [
    "# Adding features for the test files.\n",
    "for day, test_day in enumerate(test_days):\n",
    "    gc.collect()\n",
    "    if \"sales\" in test_day:\n",
    "        test_day = test_day.drop(\"sales\", axis = 1)  \n",
    "    test_day = add_features(test_day)\n",
    "    pickle.dump( test_day, open(\"tests/test_{}.pkl\".format(day), \"wb\"))\n",
    "    print(\"{}/28 tests are ready\".format(day + 1))\n"
   ]
  }
 ],
 "metadata": {
  "kernelspec": {
   "display_name": "Python 3",
   "language": "python",
   "name": "python3"
  },
  "language_info": {
   "codemirror_mode": {
    "name": "ipython",
    "version": 3
   },
   "file_extension": ".py",
   "mimetype": "text/x-python",
   "name": "python",
   "nbconvert_exporter": "python",
   "pygments_lexer": "ipython3",
   "version": "3.7.6"
  }
 },
 "nbformat": 4,
 "nbformat_minor": 4
}
